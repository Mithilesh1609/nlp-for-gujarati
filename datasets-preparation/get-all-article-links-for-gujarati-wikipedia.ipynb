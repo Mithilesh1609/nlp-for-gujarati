{
 "cells": [
  {
   "cell_type": "code",
   "execution_count": 1,
   "metadata": {},
   "outputs": [],
   "source": [
    "from urllib.request import urlopen\n",
    "import pickle"
   ]
  },
  {
   "cell_type": "code",
   "execution_count": 2,
   "metadata": {},
   "outputs": [],
   "source": [
    "html_doc = ''\n",
    "with urlopen('https://gu.wikipedia.org/wiki/%E0%AA%AE%E0%AB%81%E0%AA%96%E0%AA%AA%E0%AB%83%E0%AA%B7%E0%AB%8D%E0%AA%A0') as response:\n",
    "    for line in response:\n",
    "        line = line.decode('utf-8')\n",
    "        html_doc = html_doc + line.replace('\\n','')"
   ]
  },
  {
   "cell_type": "code",
   "execution_count": 3,
   "metadata": {},
   "outputs": [],
   "source": [
    "from bs4 import BeautifulSoup\n",
    "soup = BeautifulSoup(html_doc, 'html.parser')"
   ]
  },
  {
   "cell_type": "code",
   "execution_count": 4,
   "metadata": {},
   "outputs": [
    {
     "data": {
      "text/plain": [
       "'મુખપૃષ્ઠ'"
      ]
     },
     "execution_count": 4,
     "metadata": {},
     "output_type": "execute_result"
    }
   ],
   "source": [
    "soup.h1.string"
   ]
  },
  {
   "cell_type": "code",
   "execution_count": 5,
   "metadata": {},
   "outputs": [],
   "source": [
    "tab = soup.find(\"table\",{\"style\":\"border:2px solid #e1eaee; border-collapse:separate;font-size:120%\"})"
   ]
  },
  {
   "cell_type": "code",
   "execution_count": 6,
   "metadata": {},
   "outputs": [],
   "source": [
    "anchors = tab.find_all('a')"
   ]
  },
  {
   "cell_type": "code",
   "execution_count": 7,
   "metadata": {},
   "outputs": [],
   "source": [
    "home_url = 'https://gu.wikipedia.org' \n",
    "links = [home_url + anchor['href'] for anchor in anchors]"
   ]
  },
  {
   "cell_type": "code",
   "execution_count": 8,
   "metadata": {},
   "outputs": [
    {
     "data": {
      "text/plain": [
       "54"
      ]
     },
     "execution_count": 8,
     "metadata": {},
     "output_type": "execute_result"
    }
   ],
   "source": [
    "len(links)"
   ]
  },
  {
   "cell_type": "code",
   "execution_count": 9,
   "metadata": {},
   "outputs": [
    {
     "data": {
      "text/plain": [
       "'https://gu.wikipedia.org/wiki/%E0%AA%B5%E0%AA%BF%E0%AA%B6%E0%AB%87%E0%AA%B7:%E0%AA%AC%E0%AA%A7%E0%AA%BE%E0%AA%82%E0%AA%AA%E0%AA%BE%E0%AA%A8%E0%AA%BE%E0%AA%82/%E0%AB%A6'"
      ]
     },
     "execution_count": 9,
     "metadata": {},
     "output_type": "execute_result"
    }
   ],
   "source": [
    "links[0]"
   ]
  },
  {
   "cell_type": "code",
   "execution_count": 10,
   "metadata": {},
   "outputs": [],
   "source": [
    "all_links = []"
   ]
  },
  {
   "cell_type": "code",
   "execution_count": 12,
   "metadata": {},
   "outputs": [
    {
     "name": "stdout",
     "output_type": "stream",
     "text": [
      "61\n",
      "61\n",
      "406\n",
      "751\n",
      "1096\n",
      "1441\n",
      "1786\n",
      "2131\n",
      "2476\n",
      "2821\n",
      "3166\n",
      "3511\n",
      "3856\n",
      "4201\n",
      "4546\n",
      "4891\n",
      "5236\n",
      "5581\n",
      "5926\n",
      "6271\n",
      "6616\n",
      "6961\n",
      "7306\n",
      "7651\n",
      "7996\n",
      "8341\n",
      "8686\n",
      "9031\n",
      "9376\n",
      "9721\n",
      "10066\n",
      "10411\n",
      "10756\n",
      "11101\n",
      "11446\n",
      "11791\n",
      "12136\n",
      "12481\n",
      "12826\n",
      "13171\n",
      "13516\n",
      "13861\n",
      "14206\n",
      "14551\n",
      "14896\n",
      "15241\n",
      "15586\n",
      "15931\n",
      "16276\n",
      "16621\n",
      "16966\n",
      "17311\n",
      "17656\n",
      "18001\n",
      "18346\n",
      "18691\n",
      "19036\n",
      "19381\n",
      "19726\n",
      "20071\n",
      "20416\n",
      "20761\n",
      "21106\n",
      "21451\n",
      "21796\n",
      "22141\n",
      "22486\n",
      "22831\n",
      "23176\n",
      "23521\n",
      "23866\n",
      "24211\n",
      "24556\n",
      "24901\n",
      "25246\n",
      "25591\n",
      "25936\n",
      "26281\n",
      "26626\n",
      "26971\n",
      "27316\n",
      "27661\n",
      "28006\n",
      "28351\n",
      "28696\n",
      "29041\n",
      "29386\n",
      "29731\n",
      "30076\n",
      "30421\n",
      "30766\n",
      "31111\n",
      "31456\n",
      "31801\n",
      "31914\n",
      "31914\n",
      "31914\n",
      "31914\n",
      "31914\n",
      "31914\n",
      "31914\n",
      "31914\n",
      "31914\n",
      "31914\n",
      "31914\n",
      "31914\n",
      "31914\n",
      "31914\n",
      "31914\n",
      "31914\n",
      "31914\n",
      "31914\n",
      "31914\n",
      "31914\n",
      "31914\n",
      "31914\n",
      "31914\n",
      "31914\n",
      "31914\n",
      "31914\n",
      "31914\n",
      "31914\n",
      "31914\n",
      "31914\n",
      "31914\n",
      "31914\n",
      "31914\n",
      "31914\n",
      "31914\n",
      "31914\n",
      "31914\n",
      "31914\n",
      "31914\n",
      "31914\n",
      "31914\n",
      "31914\n",
      "31914\n",
      "31914\n",
      "31914\n",
      "31914\n",
      "31914\n",
      "31914\n",
      "31914\n",
      "31914\n",
      "31914\n",
      "31914\n",
      "31914\n"
     ]
    }
   ],
   "source": [
    "# Main code\n",
    "prev_len = 0\n",
    "for link in links:    \n",
    "    while link:\n",
    "        html_doc = ''\n",
    "        with urlopen(link) as response:\n",
    "            for line in response:\n",
    "                line = line.decode('utf-8')\n",
    "                html_doc = html_doc + line.replace('\\n','')\n",
    "            soup = BeautifulSoup(html_doc, 'html.parser')\n",
    "            div = soup.find('div',{'class':'mw-allpages-body'})\n",
    "            if div:\n",
    "                anchors = div.find_all('a');\n",
    "                all_links = all_links + [home_url + anchor['href'] for anchor in anchors]\n",
    "                print(len(set(all_links)))\n",
    "            if prev_len == len(set(all_links)):\n",
    "                break\n",
    "            nav_div = soup.find('div',{'class':'mw-allpages-nav'})\n",
    "            if nav_div and len(nav_div.find_all('a')) == 2:\n",
    "                link = home_url + nav_div.find_all('a')[1]['href']\n",
    "            prev_len = len(set(all_links))"
   ]
  },
  {
   "cell_type": "code",
   "execution_count": 13,
   "metadata": {},
   "outputs": [
    {
     "data": {
      "text/plain": [
       "31914"
      ]
     },
     "execution_count": 13,
     "metadata": {},
     "output_type": "execute_result"
    }
   ],
   "source": [
    "len(set(all_links))"
   ]
  },
  {
   "cell_type": "code",
   "execution_count": 14,
   "metadata": {},
   "outputs": [
    {
     "data": {
      "text/plain": [
       "31914"
      ]
     },
     "execution_count": 14,
     "metadata": {},
     "output_type": "execute_result"
    }
   ],
   "source": [
    "all_links = list(set(all_links)); len(all_links)"
   ]
  },
  {
   "cell_type": "code",
   "execution_count": 15,
   "metadata": {},
   "outputs": [],
   "source": [
    "with open('all_gujarati_wikipedia_links.pkl', 'wb') as f:\n",
    "    pickle.dump(all_links, f)"
   ]
  },
  {
   "cell_type": "code",
   "execution_count": 17,
   "metadata": {},
   "outputs": [
    {
     "data": {
      "text/plain": [
       "'https://gu.wikipedia.org/wiki/%E0%AA%AA%E0%AB%88%E0%AA%AF%E0%AA%BE_(%E0%AA%A4%E0%AA%BE._%E0%AA%85%E0%AA%AC%E0%AA%A1%E0%AA%BE%E0%AA%B8%E0%AA%BE)'"
      ]
     },
     "execution_count": 17,
     "metadata": {},
     "output_type": "execute_result"
    }
   ],
   "source": [
    "all_links[1600]"
   ]
  },
  {
   "cell_type": "code",
   "execution_count": null,
   "metadata": {},
   "outputs": [],
   "source": []
  }
 ],
 "metadata": {
  "kernelspec": {
   "display_name": "Python 3",
   "language": "python",
   "name": "python3"
  },
  "language_info": {
   "codemirror_mode": {
    "name": "ipython",
    "version": 3
   },
   "file_extension": ".py",
   "mimetype": "text/x-python",
   "name": "python",
   "nbconvert_exporter": "python",
   "pygments_lexer": "ipython3",
   "version": "3.6.7"
  }
 },
 "nbformat": 4,
 "nbformat_minor": 2
}
