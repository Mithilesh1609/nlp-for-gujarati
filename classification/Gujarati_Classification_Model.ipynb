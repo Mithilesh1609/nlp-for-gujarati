{
 "cells": [
  {
   "cell_type": "code",
   "execution_count": 1,
   "metadata": {},
   "outputs": [],
   "source": [
    "from fastai.text import *\n",
    "import numpy as np\n",
    "from sklearn.model_selection import train_test_split\n",
    "import pickle\n",
    "import sentencepiece as spm\n",
    "import re\n",
    "import pdb"
   ]
  },
  {
   "cell_type": "code",
   "execution_count": 2,
   "metadata": {},
   "outputs": [
    {
     "data": {
      "text/plain": [
       "('1.0.57', '1.1.0')"
      ]
     },
     "execution_count": 2,
     "metadata": {},
     "output_type": "execute_result"
    }
   ],
   "source": [
    "import fastai, torch\n",
    "fastai.__version__ , torch.__version__"
   ]
  },
  {
   "cell_type": "code",
   "execution_count": 3,
   "metadata": {},
   "outputs": [],
   "source": [
    "torch.cuda.set_device(0)"
   ]
  },
  {
   "cell_type": "code",
   "execution_count": 4,
   "metadata": {},
   "outputs": [
    {
     "name": "stdout",
     "output_type": "stream",
     "text": [
      "/home/gaurav/PycharmProjects/nlp-for-gujarati/classification\r\n"
     ]
    }
   ],
   "source": [
    "!pwd"
   ]
  },
  {
   "cell_type": "code",
   "execution_count": 5,
   "metadata": {},
   "outputs": [],
   "source": [
    "path = Path('/home/gaurav/PycharmProjects/nlp-for-gujarati/classification')"
   ]
  },
  {
   "cell_type": "code",
   "execution_count": 6,
   "metadata": {},
   "outputs": [
    {
     "data": {
      "text/html": [
       "<div>\n",
       "<style scoped>\n",
       "    .dataframe tbody tr th:only-of-type {\n",
       "        vertical-align: middle;\n",
       "    }\n",
       "\n",
       "    .dataframe tbody tr th {\n",
       "        vertical-align: top;\n",
       "    }\n",
       "\n",
       "    .dataframe thead th {\n",
       "        text-align: right;\n",
       "    }\n",
       "</style>\n",
       "<table border=\"1\" class=\"dataframe\">\n",
       "  <thead>\n",
       "    <tr style=\"text-align: right;\">\n",
       "      <th></th>\n",
       "      <th>headline</th>\n",
       "      <th>label</th>\n",
       "    </tr>\n",
       "  </thead>\n",
       "  <tbody>\n",
       "    <tr>\n",
       "      <td>0</td>\n",
       "      <td>મોદી સરકાર 1 ફેબ્રુઆરીએ વચગાળાનું બજેટ રજૂ કરશ...</td>\n",
       "      <td>business</td>\n",
       "    </tr>\n",
       "    <tr>\n",
       "      <td>1</td>\n",
       "      <td>LIC પોલિસી ધારકો માટે મોટી ખબર! પ્રીમિયમ જમા ક...</td>\n",
       "      <td>business</td>\n",
       "    </tr>\n",
       "    <tr>\n",
       "      <td>2</td>\n",
       "      <td>VIRAL VIDEO: મસ્તમૌલા અંદાજમાં રણવીર સિંહ, ચાર...</td>\n",
       "      <td>entertainment</td>\n",
       "    </tr>\n",
       "    <tr>\n",
       "      <td>3</td>\n",
       "      <td>શાહરૂખની સાથે ફિલ્મમાં કામ કરી ચુક્યો છે અનુષ્...</td>\n",
       "      <td>entertainment</td>\n",
       "    </tr>\n",
       "    <tr>\n",
       "      <td>4</td>\n",
       "      <td>એકદમ બટરફ્લાઇ અવતારમાં જોવા મળી આ એક્ટ્રેસ</td>\n",
       "      <td>entertainment</td>\n",
       "    </tr>\n",
       "  </tbody>\n",
       "</table>\n",
       "</div>"
      ],
      "text/plain": [
       "                                            headline          label\n",
       "0  મોદી સરકાર 1 ફેબ્રુઆરીએ વચગાળાનું બજેટ રજૂ કરશ...       business\n",
       "1  LIC પોલિસી ધારકો માટે મોટી ખબર! પ્રીમિયમ જમા ક...       business\n",
       "2  VIRAL VIDEO: મસ્તમૌલા અંદાજમાં રણવીર સિંહ, ચાર...  entertainment\n",
       "3  શાહરૂખની સાથે ફિલ્મમાં કામ કરી ચુક્યો છે અનુષ્...  entertainment\n",
       "4         એકદમ બટરફ્લાઇ અવતારમાં જોવા મળી આ એક્ટ્રેસ  entertainment"
      ]
     },
     "execution_count": 6,
     "metadata": {},
     "output_type": "execute_result"
    }
   ],
   "source": [
    "train_df = pd.read_csv(path/'train.csv')\n",
    "train_df.head()"
   ]
  },
  {
   "cell_type": "code",
   "execution_count": 7,
   "metadata": {},
   "outputs": [
    {
     "data": {
      "text/html": [
       "<div>\n",
       "<style scoped>\n",
       "    .dataframe tbody tr th:only-of-type {\n",
       "        vertical-align: middle;\n",
       "    }\n",
       "\n",
       "    .dataframe tbody tr th {\n",
       "        vertical-align: top;\n",
       "    }\n",
       "\n",
       "    .dataframe thead th {\n",
       "        text-align: right;\n",
       "    }\n",
       "</style>\n",
       "<table border=\"1\" class=\"dataframe\">\n",
       "  <thead>\n",
       "    <tr style=\"text-align: right;\">\n",
       "      <th></th>\n",
       "      <th>headline</th>\n",
       "      <th>label</th>\n",
       "    </tr>\n",
       "  </thead>\n",
       "  <tbody>\n",
       "    <tr>\n",
       "      <td>0</td>\n",
       "      <td>IT ડિપાર્ટમેન્ટ 1 લાખ લોકો સામે કરશે દંડનાત્મક...</td>\n",
       "      <td>business</td>\n",
       "    </tr>\n",
       "    <tr>\n",
       "      <td>1</td>\n",
       "      <td>વિરાટની સેન્ચુરી પર અનુષ્કા ખુશ, ઇન્સ્ટાગ્રામ ...</td>\n",
       "      <td>entertainment</td>\n",
       "    </tr>\n",
       "    <tr>\n",
       "      <td>2</td>\n",
       "      <td>'જમાઇ રાજા' ની આ હોટ એકટ્રેસના બિકિની ફોટાએ લગ...</td>\n",
       "      <td>entertainment</td>\n",
       "    </tr>\n",
       "    <tr>\n",
       "      <td>3</td>\n",
       "      <td>કરીનાએ સૈફના બર્થડે પર રાખી સ્પેશિયલ પાર્ટી, જ...</td>\n",
       "      <td>entertainment</td>\n",
       "    </tr>\n",
       "    <tr>\n",
       "      <td>4</td>\n",
       "      <td>ભારતમાં નોકરી કરવા માટે બેસ્ટ છે આ કંપની, શું ...</td>\n",
       "      <td>business</td>\n",
       "    </tr>\n",
       "  </tbody>\n",
       "</table>\n",
       "</div>"
      ],
      "text/plain": [
       "                                            headline          label\n",
       "0  IT ડિપાર્ટમેન્ટ 1 લાખ લોકો સામે કરશે દંડનાત્મક...       business\n",
       "1  વિરાટની સેન્ચુરી પર અનુષ્કા ખુશ, ઇન્સ્ટાગ્રામ ...  entertainment\n",
       "2  'જમાઇ રાજા' ની આ હોટ એકટ્રેસના બિકિની ફોટાએ લગ...  entertainment\n",
       "3  કરીનાએ સૈફના બર્થડે પર રાખી સ્પેશિયલ પાર્ટી, જ...  entertainment\n",
       "4  ભારતમાં નોકરી કરવા માટે બેસ્ટ છે આ કંપની, શું ...       business"
      ]
     },
     "execution_count": 7,
     "metadata": {},
     "output_type": "execute_result"
    }
   ],
   "source": [
    "valid_df = pd.read_csv(path/'valid.csv')\n",
    "valid_df.head()"
   ]
  },
  {
   "cell_type": "code",
   "execution_count": 8,
   "metadata": {},
   "outputs": [
    {
     "name": "stdout",
     "output_type": "stream",
     "text": [
      "In Training data:\n",
      "business 1840\n",
      "entertainment 2321\n",
      "tech 1108\n"
     ]
    }
   ],
   "source": [
    "print('In Training data:')\n",
    "for cls in train_df['label'].unique():\n",
    "    print(cls, (train_df['label'] == cls).sum())"
   ]
  },
  {
   "cell_type": "code",
   "execution_count": 9,
   "metadata": {},
   "outputs": [
    {
     "name": "stdout",
     "output_type": "stream",
     "text": [
      "In Validation data:\n",
      "business 491\n",
      "entertainment 584\n",
      "tech 243\n"
     ]
    }
   ],
   "source": [
    "print('In Validation data:')\n",
    "for cls in valid_df['label'].unique():\n",
    "    print(cls, (valid_df['label'] == cls).sum())"
   ]
  },
  {
   "cell_type": "code",
   "execution_count": 10,
   "metadata": {},
   "outputs": [
    {
     "data": {
      "text/plain": [
       "'મોદી સરકાર 1 ફેબ્રુઆરીએ વચગાળાનું બજેટ રજૂ કરશે, આ જાહેરાતો થઈ શકે'"
      ]
     },
     "execution_count": 10,
     "metadata": {},
     "output_type": "execute_result"
    }
   ],
   "source": [
    "train_df['headline'][0]"
   ]
  },
  {
   "cell_type": "code",
   "execution_count": 11,
   "metadata": {},
   "outputs": [
    {
     "data": {
      "text/plain": [
       "((5269, 2), (1318, 2))"
      ]
     },
     "execution_count": 11,
     "metadata": {},
     "output_type": "execute_result"
    }
   ],
   "source": [
    "train_df.shape, valid_df.shape"
   ]
  },
  {
   "cell_type": "code",
   "execution_count": 13,
   "metadata": {},
   "outputs": [
    {
     "data": {
      "text/plain": [
       "((0, 2), (0, 2))"
      ]
     },
     "execution_count": 13,
     "metadata": {},
     "output_type": "execute_result"
    }
   ],
   "source": [
    "train_df[train_df['label'].isnull()].shape, valid_df[valid_df['label'].isnull()].shape"
   ]
  },
  {
   "cell_type": "code",
   "execution_count": 14,
   "metadata": {},
   "outputs": [],
   "source": [
    "label_cols = list(range(1,train_df.shape[1]))"
   ]
  },
  {
   "cell_type": "code",
   "execution_count": 15,
   "metadata": {},
   "outputs": [
    {
     "name": "stdout",
     "output_type": "stream",
     "text": [
      "[1]\n"
     ]
    }
   ],
   "source": [
    "print(label_cols)"
   ]
  },
  {
   "cell_type": "code",
   "execution_count": 16,
   "metadata": {},
   "outputs": [],
   "source": [
    "id_to_col = list(train_df.columns)"
   ]
  },
  {
   "cell_type": "code",
   "execution_count": 17,
   "metadata": {},
   "outputs": [],
   "source": [
    "col_to_id = {}\n",
    "for i, col in enumerate(id_to_col):\n",
    "    col_to_id[col] = i"
   ]
  },
  {
   "cell_type": "code",
   "execution_count": 18,
   "metadata": {},
   "outputs": [],
   "source": [
    "class GujaratiTokenizer(BaseTokenizer):\n",
    "    def __init__(self, lang:str):\n",
    "        self.lang = lang\n",
    "        self.sp = spm.SentencePieceProcessor()\n",
    "        self.sp.Load(str(path/\"../tokenizer/gujarati_lm.model\"))\n",
    "        \n",
    "    def tokenizer(self, t:str) -> List[str]:\n",
    "        return self.sp.EncodeAsPieces(t)"
   ]
  },
  {
   "cell_type": "code",
   "execution_count": 19,
   "metadata": {},
   "outputs": [],
   "source": [
    "sp = spm.SentencePieceProcessor()\n",
    "sp.Load(str(path/\"../tokenizer/gujarati_lm.model\"))\n",
    "itos = [sp.IdToPiece(int(i)) for i in range(20000)]"
   ]
  },
  {
   "cell_type": "code",
   "execution_count": 20,
   "metadata": {},
   "outputs": [
    {
     "data": {
      "text/plain": [
       "['<unk>', '<s>', '</s>', '.', ',', '▁છે', '▁', '▁અને', 'ની', 'માં']"
      ]
     },
     "execution_count": 20,
     "metadata": {},
     "output_type": "execute_result"
    }
   ],
   "source": [
    "itos[:10]"
   ]
  },
  {
   "cell_type": "code",
   "execution_count": 21,
   "metadata": {},
   "outputs": [],
   "source": [
    "# 20,000 is the vocab size that we chose in sentencepiece\n",
    "gujarati_vocab = Vocab(itos)"
   ]
  },
  {
   "cell_type": "code",
   "execution_count": 22,
   "metadata": {},
   "outputs": [],
   "source": [
    "tokenizer = Tokenizer(tok_func=GujaratiTokenizer, lang='gu')"
   ]
  },
  {
   "cell_type": "code",
   "execution_count": 23,
   "metadata": {},
   "outputs": [
    {
     "data": {
      "text/plain": [
       "['xxunk',\n",
       " 'xxpad',\n",
       " 'xxbos',\n",
       " 'xxeos',\n",
       " 'xxfld',\n",
       " 'xxmaj',\n",
       " 'xxup',\n",
       " 'xxrep',\n",
       " 'xxwrep']"
      ]
     },
     "execution_count": 23,
     "metadata": {},
     "output_type": "execute_result"
    }
   ],
   "source": [
    "tokenizer.special_cases"
   ]
  },
  {
   "cell_type": "code",
   "execution_count": 29,
   "metadata": {},
   "outputs": [],
   "source": [
    "data_lm = TextLMDataBunch.from_df(path=path, train_df=train_df, valid_df=valid_df, text_cols=[0], label_cols=label_cols, tokenizer=tokenizer, vocab=gujarati_vocab, bs=16)"
   ]
  },
  {
   "cell_type": "code",
   "execution_count": 30,
   "metadata": {},
   "outputs": [],
   "source": [
    "data_lm.save()"
   ]
  },
  {
   "cell_type": "code",
   "execution_count": 31,
   "metadata": {},
   "outputs": [
    {
     "data": {
      "text/html": [
       "<table border=\"1\" class=\"dataframe\">\n",
       "  <thead>\n",
       "    <tr style=\"text-align: right;\">\n",
       "      <th>idx</th>\n",
       "      <th>text</th>\n",
       "    </tr>\n",
       "  </thead>\n",
       "  <tbody>\n",
       "    <tr>\n",
       "      <td>0</td>\n",
       "      <td>▁ચૈ પ લિન ને ▁આ ▁રીતે ▁આપ્યું ▁ટ્રી બ ્યુટ ▁x x bo s ▁શાહરૂખ ની ▁સાથે ▁ફિલ્મમાં ▁કામ ▁કરી ▁ચુક ્યો ▁છે ▁અનુ ષ્ કા થી ▁ઠ પ કો ▁ખાધ ેલો ▁વ્યક્તિ ▁x x bo s ▁એક દમ ▁બ ટર ફ્ લાઇ ▁અવતાર માં ▁જોવા ▁મળી ▁આ ▁એક્ટ ્રે સ ▁x x bo s ▁આજે ▁અહી થી ▁ખરીદ ો ▁one p lu s ▁6 , ▁મળશે ▁2 5,000 ▁રૂપિયા</td>\n",
       "    </tr>\n",
       "    <tr>\n",
       "      <td>1</td>\n",
       "      <td>▁કરો ▁ચોકલેટ ▁બિઝનેસ , ▁થશે ▁લા કો ની ▁કમાણી ! ▁x x bo s ▁માત્ર ▁ત્રણ ▁કલાક માં ▁જ ▁કરી ▁દેશ ની ▁સૌથી ▁મોટી ▁બેંક ની ▁સાઇટ ▁હે ક ▁x x bo s &lt;unk&gt; ▁t c s નું ▁માર્કેટ ▁કેપ ▁8 ▁લાખ ▁કરોડ ને ▁પાર , ▁હવે ▁રિલાયન્સ ▁બીજા ▁નંબર ે ▁x x bo s ▁કિ મ ▁કાર્ દિ શિયન ે ▁હવે ▁પોતાની &lt;unk&gt; ▁n ud e ▁bo d y</td>\n",
       "    </tr>\n",
       "    <tr>\n",
       "      <td>2</td>\n",
       "      <td>ia ▁9 ▁? ▁x x bo s &lt;unk&gt; mi ▁no te ▁7 ▁ભારતમાં ▁આ ▁તારીખે ▁થશે ▁લોન્ચ , ▁કંપનીએ ▁કર્યો ▁ખુલાસો ▁x x bo s ▁જ્યારે ▁એપલ ની ▁ઘડિયાળ ે ▁બચાવી ▁એક ▁માણસ ની ▁જિંદગી ▁x x bo s ▁રાજકોટ ઃ ભાવ માં ▁ધ રખમ ▁ઘટાડો ▁થતાં ▁કેસર ▁કેરી નો ▁સ્વાદ ▁હવે ▁મીઠો ▁લાગ શે ▁x x bo s ▁ને હા ▁શર્મા એ ▁સોશિયલ ▁મીડિયા ▁પર ▁શેર ▁કરી ▁બોલ ્ડ</td>\n",
       "    </tr>\n",
       "    <tr>\n",
       "      <td>3</td>\n",
       "      <td>િંગ નું ▁નવ ુ ▁પોસ્ટ ર ▁રિલીઝ , &lt;unk&gt; ▁b ik in i &lt;unk&gt; ▁l ook માં ▁નજર ▁આવી ▁સોન મ , ▁કરી ના , ▁સ્વ રા ▁અને ▁શિખ ા ▁x x bo s ▁આ ▁એક્ટ ્રે સે ▁સોશિયલ ▁મીડિયા ▁પર ▁લગાવી ▁આગ , ▁પોસ્ટ ▁કરી ▁જબરદસ્ત ▁હોટ ▁તસવીરો ▁x x bo s ▁કપિલ ▁શર્મા એ ▁કહ્યું , ▁ગાળો ▁ભાંડ ી ને ▁કાઢ ુ ▁છુ ▁ગુસ્સ ો , ▁એક ▁મહિના</td>\n",
       "    </tr>\n",
       "    <tr>\n",
       "      <td>4</td>\n",
       "      <td>bo s &lt;unk&gt; ▁s b i ની ▁મોટી ▁ઓફર ઃ ▁મફત માં ▁મળી ▁રહ્યું ▁છે ▁પાંચ ▁લી ટર ▁પેટ્રોલ ! ▁જાણ ો ▁પ્રોસેસ ▁x x bo s &lt;unk&gt; ▁e x c l &lt;unk&gt; us &lt;unk&gt; iv e : ▁ટૂંક ▁સમયમાં ▁ઘટી ▁શકે ▁છે ▁પેટ્રોલ - ડી ઝ લ ના ▁ભાવ , ▁સરકાર ▁લેશે ▁પગલાં ▁x x bo s ▁' જ ન્નત ' ▁ગર્લ ▁સોન લ ▁ચૌહાણ ▁મન મો હ ક</td>\n",
       "    </tr>\n",
       "  </tbody>\n",
       "</table>"
      ],
      "text/plain": [
       "<IPython.core.display.HTML object>"
      ]
     },
     "metadata": {},
     "output_type": "display_data"
    }
   ],
   "source": [
    "data_lm.show_batch()"
   ]
  },
  {
   "cell_type": "code",
   "execution_count": 32,
   "metadata": {},
   "outputs": [],
   "source": [
    "awd_lstm_config = awd_lstm_lm_config.copy()\n",
    "awd_lstm_config['n_hid'] = 1150\n",
    "learn = language_model_learner(data_lm, arch=AWD_LSTM, drop_mult=0.3, config=awd_lstm_config, pretrained=False)"
   ]
  },
  {
   "cell_type": "code",
   "execution_count": 33,
   "metadata": {
    "scrolled": true
   },
   "outputs": [
    {
     "data": {
      "text/plain": [
       "LanguageLearner(data=TextLMDataBunch;\n",
       "\n",
       "Train: LabelList (5269 items)\n",
       "x: LMTextList\n",
       "▁x x bo s ▁મોદી ▁સરકાર ▁1 ▁ફેબ્રુઆરી એ ▁વચગાળા નું ▁બજેટ ▁રજૂ ▁કરશે , ▁આ ▁જાહેરાતો ▁થઈ ▁શકે,▁x x bo s <unk> ▁l <unk> ic ▁પોલિસી ▁ ધારકો ▁માટે ▁મોટી ▁ખબર ! ▁પ્રી મ િયમ ▁જમા ▁કરવાનો ▁નિયમ ▁બદલાય ો,▁x x bo s <unk> ▁v i r a l <unk> ▁v i d e o : ▁મસ્ત મ ૌ લા ▁અંદાજ માં ▁રણ વીર ▁સિંહ , ▁ચાર્લી ▁ચૈ પ લિન ને ▁આ ▁રીતે ▁આપ્યું ▁ટ્રી બ ્યુટ,▁x x bo s ▁શાહરૂખ ની ▁સાથે ▁ફિલ્મમાં ▁કામ ▁કરી ▁ચુક ્યો ▁છે ▁અનુ ષ્ કા થી ▁ઠ પ કો ▁ખાધ ેલો ▁વ્યક્તિ,▁x x bo s ▁એક દમ ▁બ ટર ફ્ લાઇ ▁અવતાર માં ▁જોવા ▁મળી ▁આ ▁એક્ટ ્રે સ\n",
       "y: LMLabelList\n",
       ",,,,\n",
       "Path: /home/gaurav/PycharmProjects/nlp-for-gujarati/classification;\n",
       "\n",
       "Valid: LabelList (1318 items)\n",
       "x: LMTextList\n",
       "▁x x bo s ▁ <unk> it ▁ડિપાર્ટમેન્ટ ▁1 ▁લાખ ▁લોકો ▁સામે ▁કરશે ▁દંડ ના ત્મક ▁કાર્યવાહી,▁x x bo s ▁વિરાટ ની ▁સેન્ ચુર ી ▁પર ▁અનુ ષ્ કા ▁ખુશ , ▁ઇન્ સ્ટા ગ્રામ ▁પર ▁આવી ▁રીતે ▁વરસ ા વ્યો ▁પ્રેમ,▁x x bo s ▁' જ મા ઇ ▁રાજા ' ▁ની ▁આ ▁હોટ ▁એક ટ્રે સના ▁બિ કિ ની ▁ફોટા એ ▁લગાવી ▁' આ ગ ',▁x x bo s ▁કરી ના એ ▁સૈ ફ ના ▁બર્ થ ડે ▁પર ▁રાખી ▁સ્પેશિયલ ▁પાર્ટી , ▁જુઓ ▁ફોટા,▁x x bo s ▁ભારતમાં ▁નોકરી ▁કરવા ▁માટે ▁બેસ્ટ ▁છે ▁આ ▁કંપની , ▁શું ▁તમે ▁પણ ▁તેમ ા ▁કામ ▁કરવા ▁માંગ ો ▁છો ?\n",
       "y: LMLabelList\n",
       ",,,,\n",
       "Path: /home/gaurav/PycharmProjects/nlp-for-gujarati/classification;\n",
       "\n",
       "Test: None, model=SequentialRNN(\n",
       "  (0): AWD_LSTM(\n",
       "    (encoder): Embedding(20000, 400, padding_idx=1)\n",
       "    (encoder_dp): EmbeddingDropout(\n",
       "      (emb): Embedding(20000, 400, padding_idx=1)\n",
       "    )\n",
       "    (rnns): ModuleList(\n",
       "      (0): WeightDropout(\n",
       "        (module): LSTM(400, 1150, batch_first=True)\n",
       "      )\n",
       "      (1): WeightDropout(\n",
       "        (module): LSTM(1150, 1150, batch_first=True)\n",
       "      )\n",
       "      (2): WeightDropout(\n",
       "        (module): LSTM(1150, 400, batch_first=True)\n",
       "      )\n",
       "    )\n",
       "    (input_dp): RNNDropout()\n",
       "    (hidden_dps): ModuleList(\n",
       "      (0): RNNDropout()\n",
       "      (1): RNNDropout()\n",
       "      (2): RNNDropout()\n",
       "    )\n",
       "  )\n",
       "  (1): LinearDecoder(\n",
       "    (decoder): Linear(in_features=400, out_features=20000, bias=True)\n",
       "    (output_dp): RNNDropout()\n",
       "  )\n",
       "), opt_func=functools.partial(<class 'torch.optim.adam.Adam'>, betas=(0.9, 0.99)), loss_func=FlattenedLoss of CrossEntropyLoss(), metrics=[<function accuracy at 0x7f12a10164d0>], true_wd=True, bn_wd=True, wd=0.01, train_bn=True, path=PosixPath('/home/gaurav/PycharmProjects/nlp-for-gujarati/classification'), model_dir='models', callback_fns=[functools.partial(<class 'fastai.basic_train.Recorder'>, add_time=True, silent=False)], callbacks=[RNNTrainer\n",
       "learn: ...\n",
       "alpha: 2.0\n",
       "beta: 1.0], layer_groups=[Sequential(\n",
       "  (0): WeightDropout(\n",
       "    (module): LSTM(400, 1150, batch_first=True)\n",
       "  )\n",
       "  (1): RNNDropout()\n",
       "), Sequential(\n",
       "  (0): WeightDropout(\n",
       "    (module): LSTM(1150, 1150, batch_first=True)\n",
       "  )\n",
       "  (1): RNNDropout()\n",
       "), Sequential(\n",
       "  (0): WeightDropout(\n",
       "    (module): LSTM(1150, 400, batch_first=True)\n",
       "  )\n",
       "  (1): RNNDropout()\n",
       "), Sequential(\n",
       "  (0): Embedding(20000, 400, padding_idx=1)\n",
       "  (1): EmbeddingDropout(\n",
       "    (emb): Embedding(20000, 400, padding_idx=1)\n",
       "  )\n",
       "  (2): LinearDecoder(\n",
       "    (decoder): Linear(in_features=400, out_features=20000, bias=True)\n",
       "    (output_dp): RNNDropout()\n",
       "  )\n",
       ")], add_time=True, silent=False, cb_fns_registered=False)"
      ]
     },
     "execution_count": 33,
     "metadata": {},
     "output_type": "execute_result"
    }
   ],
   "source": [
    "# Loading the pretrained language model on gujarati wikipedia\n",
    "learn.load('/home/gaurav/PycharmProjects/nlp-for-gujarati/language-model/GujaratiDataset/models/third_gu_lm', with_opt=True)"
   ]
  },
  {
   "cell_type": "code",
   "execution_count": 34,
   "metadata": {},
   "outputs": [],
   "source": [
    "# Fine tuning the prtrained LM on current dataset"
   ]
  },
  {
   "cell_type": "code",
   "execution_count": 35,
   "metadata": {},
   "outputs": [
    {
     "data": {
      "text/html": [],
      "text/plain": [
       "<IPython.core.display.HTML object>"
      ]
     },
     "metadata": {},
     "output_type": "display_data"
    },
    {
     "name": "stdout",
     "output_type": "stream",
     "text": [
      "LR Finder is complete, type {learner_name}.recorder.plot() to see the graph.\n"
     ]
    }
   ],
   "source": [
    "learn.lr_find()"
   ]
  },
  {
   "cell_type": "code",
   "execution_count": 36,
   "metadata": {},
   "outputs": [
    {
     "data": {
      "image/png": "[encoded data removed]",
      "text/plain": [
       "<Figure size 432x288 with 1 Axes>"
      ]
     },
     "metadata": {
      "needs_background": "light"
     },
     "output_type": "display_data"
    }
   ],
   "source": [
    "learn.recorder.plot()"
   ]
  },
  {
   "cell_type": "code",
   "execution_count": 37,
   "metadata": {},
   "outputs": [],
   "source": [
    "learn.freeze()"
   ]
  },
  {
   "cell_type": "code",
   "execution_count": 38,
   "metadata": {},
   "outputs": [
    {
     "data": {
      "text/html": [
       "<table border=\"1\" class=\"dataframe\">\n",
       "  <thead>\n",
       "    <tr style=\"text-align: left;\">\n",
       "      <th>epoch</th>\n",
       "      <th>train_loss</th>\n",
       "      <th>valid_loss</th>\n",
       "      <th>accuracy</th>\n",
       "      <th>time</th>\n",
       "    </tr>\n",
       "  </thead>\n",
       "  <tbody>\n",
       "    <tr>\n",
       "      <td>0</td>\n",
       "      <td>5.134665</td>\n",
       "      <td>4.720959</td>\n",
       "      <td>0.295408</td>\n",
       "      <td>00:08</td>\n",
       "    </tr>\n",
       "  </tbody>\n",
       "</table>"
      ],
      "text/plain": [
       "<IPython.core.display.HTML object>"
      ]
     },
     "metadata": {},
     "output_type": "display_data"
    }
   ],
   "source": [
    "learn.fit_one_cycle(1, 1e-2)"
   ]
  },
  {
   "cell_type": "code",
   "execution_count": 39,
   "metadata": {},
   "outputs": [],
   "source": [
    "learn.unfreeze()"
   ]
  },
  {
   "cell_type": "code",
   "execution_count": 40,
   "metadata": {},
   "outputs": [
    {
     "data": {
      "text/html": [
       "<table border=\"1\" class=\"dataframe\">\n",
       "  <thead>\n",
       "    <tr style=\"text-align: left;\">\n",
       "      <th>epoch</th>\n",
       "      <th>train_loss</th>\n",
       "      <th>valid_loss</th>\n",
       "      <th>accuracy</th>\n",
       "      <th>time</th>\n",
       "    </tr>\n",
       "  </thead>\n",
       "  <tbody>\n",
       "    <tr>\n",
       "      <td>0</td>\n",
       "      <td>4.356037</td>\n",
       "      <td>4.336496</td>\n",
       "      <td>0.327615</td>\n",
       "      <td>00:09</td>\n",
       "    </tr>\n",
       "    <tr>\n",
       "      <td>1</td>\n",
       "      <td>3.993542</td>\n",
       "      <td>4.050807</td>\n",
       "      <td>0.364477</td>\n",
       "      <td>00:09</td>\n",
       "    </tr>\n",
       "    <tr>\n",
       "      <td>2</td>\n",
       "      <td>3.661298</td>\n",
       "      <td>3.944021</td>\n",
       "      <td>0.381441</td>\n",
       "      <td>00:09</td>\n",
       "    </tr>\n",
       "    <tr>\n",
       "      <td>3</td>\n",
       "      <td>3.397039</td>\n",
       "      <td>3.928034</td>\n",
       "      <td>0.385682</td>\n",
       "      <td>00:09</td>\n",
       "    </tr>\n",
       "    <tr>\n",
       "      <td>4</td>\n",
       "      <td>3.249881</td>\n",
       "      <td>3.936134</td>\n",
       "      <td>0.386001</td>\n",
       "      <td>00:09</td>\n",
       "    </tr>\n",
       "  </tbody>\n",
       "</table>"
      ],
      "text/plain": [
       "<IPython.core.display.HTML object>"
      ]
     },
     "metadata": {},
     "output_type": "display_data"
    }
   ],
   "source": [
    "learn.fit_one_cycle(5, 1e-3)"
   ]
  },
  {
   "cell_type": "code",
   "execution_count": 41,
   "metadata": {},
   "outputs": [
    {
     "data": {
      "text/plain": [
       "'શાહરૂખ ખાન સાથે ▁પાટ િના ▁પર ▁આરોપ ાતો ▁હવે ▁હવે ▁આરોપ ▁x x'"
      ]
     },
     "execution_count": 41,
     "metadata": {},
     "output_type": "execute_result"
    }
   ],
   "source": [
    "learn.predict('શાહરૂખ ખાન સાથે',n_words=10)"
   ]
  },
  {
   "cell_type": "code",
   "execution_count": 42,
   "metadata": {},
   "outputs": [],
   "source": [
    "learn.save_encoder('fine_tuned_enc')"
   ]
  },
  {
   "cell_type": "code",
   "execution_count": 43,
   "metadata": {},
   "outputs": [],
   "source": [
    "data_clas = TextClasDataBunch.from_df(path=path, train_df=train_df, valid_df=valid_df, tokenizer=tokenizer, vocab=gujarati_vocab, text_cols=[0], label_cols=label_cols, bs=16)"
   ]
  },
  {
   "cell_type": "code",
   "execution_count": 44,
   "metadata": {},
   "outputs": [
    {
     "data": {
      "text/html": [
       "<table border=\"1\" class=\"dataframe\">\n",
       "  <thead>\n",
       "    <tr style=\"text-align: right;\">\n",
       "      <th>text</th>\n",
       "      <th>target</th>\n",
       "    </tr>\n",
       "  </thead>\n",
       "  <tbody>\n",
       "    <tr>\n",
       "      <td>▁x x bo s &lt;unk&gt; ▁t r a i l e r &lt;unk&gt; &lt;unk&gt; u t : ▁જુઓ ▁' z e r o ' માં ▁શાહરૂખ - ▁અનુ ષ્ કા ▁અને ▁સેક્સ ી ▁કે ટર િના નું &lt;unk&gt; ▁l o v e &lt;unk&gt; ▁t r i a n g l e</td>\n",
       "      <td>entertainment</td>\n",
       "    </tr>\n",
       "    <tr>\n",
       "      <td>▁x x bo s &lt;unk&gt; &lt;unk&gt; l &lt;unk&gt; ▁b e t t i n g ▁ &lt;unk&gt; ca &lt;unk&gt; se : ▁ખુ લી ▁બોલિવૂડ ની ▁પોલ , ▁અરબ ા ઝ ▁ખાન ▁પછી ▁વધુ ▁બે ▁પ્રો ડ ્યુ સર નાં ▁નામ ▁ખુલ્ યાં</td>\n",
       "      <td>entertainment</td>\n",
       "    </tr>\n",
       "    <tr>\n",
       "      <td>▁x x bo s &lt;unk&gt; ▁a ma z on ▁પર ▁ચાલી ▁રહી ▁છે &lt;unk&gt; ▁a pp le &lt;unk&gt; ▁f est , ▁i p h one ▁ x થી ▁લઇને ▁i p h one ▁ &lt;unk&gt; &lt;unk&gt; ▁સુધી ▁ભારે ▁ડિસ્ક ાઉ ન્ટ</td>\n",
       "      <td>tech</td>\n",
       "    </tr>\n",
       "    <tr>\n",
       "      <td>▁x x bo s &lt;unk&gt; ▁v i d e o : ▁ઉર્ મિ લા ▁બાદ ▁હવે ▁એ લી એ ▁કહ્યું , ▁' છ મ્મા ▁છ મ્મા ' , ▁એક્ટ ્રે સે ▁લગાવ ્યા ▁હોટ ને સ નાં ▁તડક ા</td>\n",
       "      <td>entertainment</td>\n",
       "    </tr>\n",
       "    <tr>\n",
       "      <td>▁x x bo s &lt;unk&gt; ▁co n g r a t u l a t i o n s ! ▁સેક્સ ▁સ્કેન્ડ લ માં ▁પકડ ાયેલી ▁શ્વેત ા ▁બસ ુ એ ▁કરી ▁' સિ ક્રેટ ▁સગા ઇ '</td>\n",
       "      <td>entertainment</td>\n",
       "    </tr>\n",
       "  </tbody>\n",
       "</table>"
      ],
      "text/plain": [
       "<IPython.core.display.HTML object>"
      ]
     },
     "metadata": {},
     "output_type": "display_data"
    }
   ],
   "source": [
    "data_clas.show_batch()"
   ]
  },
  {
   "cell_type": "code",
   "execution_count": 45,
   "metadata": {},
   "outputs": [],
   "source": [
    "del awd_lstm_config['tie_weights']\n",
    "del awd_lstm_config['out_bias']"
   ]
  },
  {
   "cell_type": "code",
   "execution_count": 46,
   "metadata": {},
   "outputs": [],
   "source": [
    "learn = text_classifier_learner(data_clas, arch=AWD_LSTM, drop_mult=0.5, config=awd_lstm_config)"
   ]
  },
  {
   "cell_type": "code",
   "execution_count": 47,
   "metadata": {
    "scrolled": true
   },
   "outputs": [
    {
     "data": {
      "text/plain": [
       "RNNLearner(data=TextClasDataBunch;\n",
       "\n",
       "Train: LabelList (5269 items)\n",
       "x: TextList\n",
       "▁x x bo s ▁મોદી ▁સરકાર ▁1 ▁ફેબ્રુઆરી એ ▁વચગાળા નું ▁બજેટ ▁રજૂ ▁કરશે , ▁આ ▁જાહેરાતો ▁થઈ ▁શકે,▁x x bo s <unk> ▁l <unk> ic ▁પોલિસી ▁ ધારકો ▁માટે ▁મોટી ▁ખબર ! ▁પ્રી મ િયમ ▁જમા ▁કરવાનો ▁નિયમ ▁બદલાય ો,▁x x bo s <unk> ▁v i r a l <unk> ▁v i d e o : ▁મસ્ત મ ૌ લા ▁અંદાજ માં ▁રણ વીર ▁સિંહ , ▁ચાર્લી ▁ચૈ પ લિન ને ▁આ ▁રીતે ▁આપ્યું ▁ટ્રી બ ્યુટ,▁x x bo s ▁શાહરૂખ ની ▁સાથે ▁ફિલ્મમાં ▁કામ ▁કરી ▁ચુક ્યો ▁છે ▁અનુ ષ્ કા થી ▁ઠ પ કો ▁ખાધ ેલો ▁વ્યક્તિ,▁x x bo s ▁એક દમ ▁બ ટર ફ્ લાઇ ▁અવતાર માં ▁જોવા ▁મળી ▁આ ▁એક્ટ ્રે સ\n",
       "y: CategoryList\n",
       "business,business,entertainment,entertainment,entertainment\n",
       "Path: /home/gaurav/PycharmProjects/nlp-for-gujarati/classification;\n",
       "\n",
       "Valid: LabelList (1318 items)\n",
       "x: TextList\n",
       "▁x x bo s ▁ <unk> it ▁ડિપાર્ટમેન્ટ ▁1 ▁લાખ ▁લોકો ▁સામે ▁કરશે ▁દંડ ના ત્મક ▁કાર્યવાહી,▁x x bo s ▁વિરાટ ની ▁સેન્ ચુર ી ▁પર ▁અનુ ષ્ કા ▁ખુશ , ▁ઇન્ સ્ટા ગ્રામ ▁પર ▁આવી ▁રીતે ▁વરસ ા વ્યો ▁પ્રેમ,▁x x bo s ▁' જ મા ઇ ▁રાજા ' ▁ની ▁આ ▁હોટ ▁એક ટ્રે સના ▁બિ કિ ની ▁ફોટા એ ▁લગાવી ▁' આ ગ ',▁x x bo s ▁કરી ના એ ▁સૈ ફ ના ▁બર્ થ ડે ▁પર ▁રાખી ▁સ્પેશિયલ ▁પાર્ટી , ▁જુઓ ▁ફોટા,▁x x bo s ▁ભારતમાં ▁નોકરી ▁કરવા ▁માટે ▁બેસ્ટ ▁છે ▁આ ▁કંપની , ▁શું ▁તમે ▁પણ ▁તેમ ા ▁કામ ▁કરવા ▁માંગ ો ▁છો ?\n",
       "y: CategoryList\n",
       "business,entertainment,entertainment,entertainment,business\n",
       "Path: /home/gaurav/PycharmProjects/nlp-for-gujarati/classification;\n",
       "\n",
       "Test: None, model=SequentialRNN(\n",
       "  (0): MultiBatchEncoder(\n",
       "    (module): AWD_LSTM(\n",
       "      (encoder): Embedding(20000, 400, padding_idx=1)\n",
       "      (encoder_dp): EmbeddingDropout(\n",
       "        (emb): Embedding(20000, 400, padding_idx=1)\n",
       "      )\n",
       "      (rnns): ModuleList(\n",
       "        (0): WeightDropout(\n",
       "          (module): LSTM(400, 1150, batch_first=True)\n",
       "        )\n",
       "        (1): WeightDropout(\n",
       "          (module): LSTM(1150, 1150, batch_first=True)\n",
       "        )\n",
       "        (2): WeightDropout(\n",
       "          (module): LSTM(1150, 400, batch_first=True)\n",
       "        )\n",
       "      )\n",
       "      (input_dp): RNNDropout()\n",
       "      (hidden_dps): ModuleList(\n",
       "        (0): RNNDropout()\n",
       "        (1): RNNDropout()\n",
       "        (2): RNNDropout()\n",
       "      )\n",
       "    )\n",
       "  )\n",
       "  (1): PoolingLinearClassifier(\n",
       "    (layers): Sequential(\n",
       "      (0): BatchNorm1d(1200, eps=1e-05, momentum=0.1, affine=True, track_running_stats=True)\n",
       "      (1): Dropout(p=0.05)\n",
       "      (2): Linear(in_features=1200, out_features=50, bias=True)\n",
       "      (3): ReLU(inplace)\n",
       "      (4): BatchNorm1d(50, eps=1e-05, momentum=0.1, affine=True, track_running_stats=True)\n",
       "      (5): Dropout(p=0.1)\n",
       "      (6): Linear(in_features=50, out_features=3, bias=True)\n",
       "    )\n",
       "  )\n",
       "), opt_func=functools.partial(<class 'torch.optim.adam.Adam'>, betas=(0.9, 0.99)), loss_func=FlattenedLoss of CrossEntropyLoss(), metrics=[<function accuracy at 0x7f12a10164d0>], true_wd=True, bn_wd=True, wd=0.01, train_bn=True, path=PosixPath('/home/gaurav/PycharmProjects/nlp-for-gujarati/classification'), model_dir='models', callback_fns=[functools.partial(<class 'fastai.basic_train.Recorder'>, add_time=True, silent=False)], callbacks=[RNNTrainer\n",
       "learn: ...\n",
       "alpha: 2.0\n",
       "beta: 1.0], layer_groups=[Sequential(\n",
       "  (0): Embedding(20000, 400, padding_idx=1)\n",
       "  (1): EmbeddingDropout(\n",
       "    (emb): Embedding(20000, 400, padding_idx=1)\n",
       "  )\n",
       "), Sequential(\n",
       "  (0): WeightDropout(\n",
       "    (module): LSTM(400, 1150, batch_first=True)\n",
       "  )\n",
       "  (1): RNNDropout()\n",
       "), Sequential(\n",
       "  (0): WeightDropout(\n",
       "    (module): LSTM(1150, 1150, batch_first=True)\n",
       "  )\n",
       "  (1): RNNDropout()\n",
       "), Sequential(\n",
       "  (0): WeightDropout(\n",
       "    (module): LSTM(1150, 400, batch_first=True)\n",
       "  )\n",
       "  (1): RNNDropout()\n",
       "), Sequential(\n",
       "  (0): PoolingLinearClassifier(\n",
       "    (layers): Sequential(\n",
       "      (0): BatchNorm1d(1200, eps=1e-05, momentum=0.1, affine=True, track_running_stats=True)\n",
       "      (1): Dropout(p=0.05)\n",
       "      (2): Linear(in_features=1200, out_features=50, bias=True)\n",
       "      (3): ReLU(inplace)\n",
       "      (4): BatchNorm1d(50, eps=1e-05, momentum=0.1, affine=True, track_running_stats=True)\n",
       "      (5): Dropout(p=0.1)\n",
       "      (6): Linear(in_features=50, out_features=3, bias=True)\n",
       "    )\n",
       "  )\n",
       ")], add_time=True, silent=False, cb_fns_registered=False)"
      ]
     },
     "execution_count": 47,
     "metadata": {},
     "output_type": "execute_result"
    }
   ],
   "source": [
    "learn.load_encoder('fine_tuned_enc')"
   ]
  },
  {
   "cell_type": "code",
   "execution_count": 48,
   "metadata": {},
   "outputs": [],
   "source": [
    "learn.freeze()"
   ]
  },
  {
   "cell_type": "code",
   "execution_count": 49,
   "metadata": {},
   "outputs": [
    {
     "data": {
      "text/html": [],
      "text/plain": [
       "<IPython.core.display.HTML object>"
      ]
     },
     "metadata": {},
     "output_type": "display_data"
    },
    {
     "name": "stdout",
     "output_type": "stream",
     "text": [
      "LR Finder is complete, type {learner_name}.recorder.plot() to see the graph.\n"
     ]
    }
   ],
   "source": [
    "learn.lr_find()"
   ]
  },
  {
   "cell_type": "code",
   "execution_count": 50,
   "metadata": {},
   "outputs": [
    {
     "data": {
      "image/png": "[encoded data removed]",
      "text/plain": [
       "<Figure size 432x288 with 1 Axes>"
      ]
     },
     "metadata": {
      "needs_background": "light"
     },
     "output_type": "display_data"
    }
   ],
   "source": [
    "learn.recorder.plot()"
   ]
  },
  {
   "cell_type": "code",
   "execution_count": 51,
   "metadata": {},
   "outputs": [
    {
     "data": {
      "text/plain": [
       "CrossEntropyLoss()"
      ]
     },
     "execution_count": 51,
     "metadata": {},
     "output_type": "execute_result"
    }
   ],
   "source": [
    "learn.loss_func.func"
   ]
  },
  {
   "cell_type": "code",
   "execution_count": 52,
   "metadata": {},
   "outputs": [],
   "source": [
    "kappa = KappaScore()"
   ]
  },
  {
   "cell_type": "code",
   "execution_count": 53,
   "metadata": {},
   "outputs": [],
   "source": [
    "learn.metrics = [kappa, accuracy]"
   ]
  },
  {
   "cell_type": "code",
   "execution_count": 54,
   "metadata": {},
   "outputs": [
    {
     "data": {
      "text/html": [
       "<table border=\"1\" class=\"dataframe\">\n",
       "  <thead>\n",
       "    <tr style=\"text-align: left;\">\n",
       "      <th>epoch</th>\n",
       "      <th>train_loss</th>\n",
       "      <th>valid_loss</th>\n",
       "      <th>kappa_score</th>\n",
       "      <th>accuracy</th>\n",
       "      <th>time</th>\n",
       "    </tr>\n",
       "  </thead>\n",
       "  <tbody>\n",
       "    <tr>\n",
       "      <td>0</td>\n",
       "      <td>0.454331</td>\n",
       "      <td>0.338667</td>\n",
       "      <td>0.798111</td>\n",
       "      <td>0.873293</td>\n",
       "      <td>00:06</td>\n",
       "    </tr>\n",
       "  </tbody>\n",
       "</table>"
      ],
      "text/plain": [
       "<IPython.core.display.HTML object>"
      ]
     },
     "metadata": {},
     "output_type": "display_data"
    }
   ],
   "source": [
    "learn.fit_one_cycle(1, 1e-2)"
   ]
  },
  {
   "cell_type": "code",
   "execution_count": 55,
   "metadata": {},
   "outputs": [
    {
     "data": {
      "text/html": [
       "<table border=\"1\" class=\"dataframe\">\n",
       "  <thead>\n",
       "    <tr style=\"text-align: left;\">\n",
       "      <th>epoch</th>\n",
       "      <th>train_loss</th>\n",
       "      <th>valid_loss</th>\n",
       "      <th>kappa_score</th>\n",
       "      <th>accuracy</th>\n",
       "      <th>time</th>\n",
       "    </tr>\n",
       "  </thead>\n",
       "  <tbody>\n",
       "    <tr>\n",
       "      <td>0</td>\n",
       "      <td>0.384875</td>\n",
       "      <td>0.286631</td>\n",
       "      <td>0.842950</td>\n",
       "      <td>0.900607</td>\n",
       "      <td>00:07</td>\n",
       "    </tr>\n",
       "  </tbody>\n",
       "</table>"
      ],
      "text/plain": [
       "<IPython.core.display.HTML object>"
      ]
     },
     "metadata": {},
     "output_type": "display_data"
    }
   ],
   "source": [
    "learn.freeze_to(-2)\n",
    "learn.fit_one_cycle(1, 1e-2)"
   ]
  },
  {
   "cell_type": "code",
   "execution_count": 56,
   "metadata": {},
   "outputs": [],
   "source": [
    "learn.save('second-full')"
   ]
  },
  {
   "cell_type": "code",
   "execution_count": 57,
   "metadata": {},
   "outputs": [
    {
     "data": {
      "text/html": [
       "<table border=\"1\" class=\"dataframe\">\n",
       "  <thead>\n",
       "    <tr style=\"text-align: left;\">\n",
       "      <th>epoch</th>\n",
       "      <th>train_loss</th>\n",
       "      <th>valid_loss</th>\n",
       "      <th>kappa_score</th>\n",
       "      <th>accuracy</th>\n",
       "      <th>time</th>\n",
       "    </tr>\n",
       "  </thead>\n",
       "  <tbody>\n",
       "    <tr>\n",
       "      <td>0</td>\n",
       "      <td>0.274133</td>\n",
       "      <td>0.254475</td>\n",
       "      <td>0.850016</td>\n",
       "      <td>0.905159</td>\n",
       "      <td>00:12</td>\n",
       "    </tr>\n",
       "    <tr>\n",
       "      <td>1</td>\n",
       "      <td>0.200794</td>\n",
       "      <td>0.247230</td>\n",
       "      <td>0.879023</td>\n",
       "      <td>0.924127</td>\n",
       "      <td>00:12</td>\n",
       "    </tr>\n",
       "    <tr>\n",
       "      <td>2</td>\n",
       "      <td>0.109039</td>\n",
       "      <td>0.274052</td>\n",
       "      <td>0.876848</td>\n",
       "      <td>0.922610</td>\n",
       "      <td>00:12</td>\n",
       "    </tr>\n",
       "    <tr>\n",
       "      <td>3</td>\n",
       "      <td>0.059068</td>\n",
       "      <td>0.286788</td>\n",
       "      <td>0.876294</td>\n",
       "      <td>0.921851</td>\n",
       "      <td>00:12</td>\n",
       "    </tr>\n",
       "    <tr>\n",
       "      <td>4</td>\n",
       "      <td>0.052125</td>\n",
       "      <td>0.306883</td>\n",
       "      <td>0.870322</td>\n",
       "      <td>0.918058</td>\n",
       "      <td>00:12</td>\n",
       "    </tr>\n",
       "  </tbody>\n",
       "</table>"
      ],
      "text/plain": [
       "<IPython.core.display.HTML object>"
      ]
     },
     "metadata": {},
     "output_type": "display_data"
    },
    {
     "name": "stdout",
     "output_type": "stream",
     "text": [
      "Better model found at epoch 0 with accuracy value: 0.9051593542098999.\n",
      "Better model found at epoch 1 with accuracy value: 0.924127459526062.\n"
     ]
    }
   ],
   "source": [
    "learn.unfreeze()\n",
    "learn.fit_one_cycle(5, 1e-3, callbacks=[callbacks.SaveModelCallback(learn, every='improvement', monitor='accuracy', name='final')])"
   ]
  },
  {
   "cell_type": "code",
   "execution_count": 58,
   "metadata": {},
   "outputs": [
    {
     "data": {
      "text/plain": [
       "(Category entertainment, tensor(1), tensor([0.0455, 0.9419, 0.0126]))"
      ]
     },
     "execution_count": 58,
     "metadata": {},
     "output_type": "execute_result"
    }
   ],
   "source": [
    "learn.predict('પ્રિયંકા ચોપડાને પતિ નિક પાસેથી મળી 2.7 કરોડ રૂપિયાની ગિફ્ટ, કિસ કરીને બોલી- લવ યૂ બેબી')"
   ]
  },
  {
   "cell_type": "code",
   "execution_count": 59,
   "metadata": {},
   "outputs": [
    {
     "data": {
      "text/plain": [
       "(Category entertainment,\n",
       " tensor(1),\n",
       " tensor([7.5419e-04, 9.9901e-01, 2.3195e-04]))"
      ]
     },
     "execution_count": 59,
     "metadata": {},
     "output_type": "execute_result"
    }
   ],
   "source": [
    "learn.predict(\"કલંકઃ 21 વર્ષ બાદ એકસાથે જોવા મળશે સંજય દત્ત-માધુરી દિક્ષિત, કહી દિલની વાત\")"
   ]
  },
  {
   "cell_type": "code",
   "execution_count": 60,
   "metadata": {},
   "outputs": [
    {
     "data": {
      "text/plain": [
       "(Category business, tensor(0), tensor([0.9922, 0.0029, 0.0050]))"
      ]
     },
     "execution_count": 60,
     "metadata": {},
     "output_type": "execute_result"
    }
   ],
   "source": [
    "learn.predict(\"બે અઠવાડિયા બાદ સસ્તું થયું પેટ્રોલ, ડીઝલની કિંમત પણ ઘટી\")"
   ]
  },
  {
   "cell_type": "code",
   "execution_count": 61,
   "metadata": {},
   "outputs": [
    {
     "data": {
      "text/plain": [
       "(Category tech, tensor(2), tensor([0.2275, 0.0025, 0.7700]))"
      ]
     },
     "execution_count": 61,
     "metadata": {},
     "output_type": "execute_result"
    }
   ],
   "source": [
    "learn.predict(\"જનકલી નોટો ઓળખવા માટે એક નવી સ્માર્ટફોન એપ આવી\")"
   ]
  },
  {
   "cell_type": "code",
   "execution_count": null,
   "metadata": {},
   "outputs": [],
   "source": []
  }
 ],
 "metadata": {
  "kernelspec": {
   "display_name": "Python 3",
   "language": "python",
   "name": "python3"
  },
  "language_info": {
   "codemirror_mode": {
    "name": "ipython",
    "version": 3
   },
   "file_extension": ".py",
   "mimetype": "text/x-python",
   "name": "python",
   "nbconvert_exporter": "python",
   "pygments_lexer": "ipython3",
   "version": "3.7.3"
  }
 },
 "nbformat": 4,
 "nbformat_minor": 2
}
